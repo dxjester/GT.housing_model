{
 "cells": [
  {
   "cell_type": "markdown",
   "metadata": {},
   "source": [
    "# 6242 PROJECT"
   ]
  },
  {
   "cell_type": "markdown",
   "metadata": {},
   "source": [
    "Comment: Pat push, 3-FEB-20"
   ]
  },
  {
   "cell_type": "markdown",
   "metadata": {},
   "source": [
    "## PHASE 1: PROJECT SETUP"
   ]
  },
  {
   "cell_type": "markdown",
   "metadata": {},
   "source": [
    "Import the necessary libraries needed for ETL, engineering, and export efforts"
   ]
  },
  {
   "cell_type": "code",
   "execution_count": 39,
   "metadata": {},
   "outputs": [],
   "source": [
    "import pandas as pd\n",
    "import csv\n",
    "import random\n",
    "import sqlite3\n",
    "import numpy as np\n",
    "import datetime\n",
    "import matplotlib.pyplot as plt\n",
    "import geopandas as gpd\n",
    "import seaborn as sns\n",
    "import getpass as gp\n",
    "\n",
    "from shapely.geometry import Point, Polygon"
   ]
  },
  {
   "cell_type": "code",
   "execution_count": 40,
   "metadata": {},
   "outputs": [
    {
     "name": "stdout",
     "output_type": "stream",
     "text": [
      "Requirement already satisfied: geojson in /Users/patrickbenitez/opt/anaconda3/lib/python3.7/site-packages (2.5.0)\r\n"
     ]
    }
   ],
   "source": [
    "!pip install geojson"
   ]
  },
  {
   "cell_type": "code",
   "execution_count": 41,
   "metadata": {},
   "outputs": [
    {
     "name": "stdout",
     "output_type": "stream",
     "text": [
      "Requirement already satisfied: descartes in /Users/patrickbenitez/opt/anaconda3/lib/python3.7/site-packages (1.1.0)\r\n",
      "Requirement already satisfied: matplotlib in /Users/patrickbenitez/opt/anaconda3/lib/python3.7/site-packages (from descartes) (3.1.1)\r\n",
      "Requirement already satisfied: cycler>=0.10 in /Users/patrickbenitez/opt/anaconda3/lib/python3.7/site-packages (from matplotlib->descartes) (0.10.0)\r\n",
      "Requirement already satisfied: kiwisolver>=1.0.1 in /Users/patrickbenitez/opt/anaconda3/lib/python3.7/site-packages (from matplotlib->descartes) (1.1.0)\r\n",
      "Requirement already satisfied: pyparsing!=2.0.4,!=2.1.2,!=2.1.6,>=2.0.1 in /Users/patrickbenitez/opt/anaconda3/lib/python3.7/site-packages (from matplotlib->descartes) (2.4.2)\r\n",
      "Requirement already satisfied: python-dateutil>=2.1 in /Users/patrickbenitez/opt/anaconda3/lib/python3.7/site-packages (from matplotlib->descartes) (2.8.0)\r\n",
      "Requirement already satisfied: numpy>=1.11 in /Users/patrickbenitez/opt/anaconda3/lib/python3.7/site-packages (from matplotlib->descartes) (1.17.2)\r\n",
      "Requirement already satisfied: six in /Users/patrickbenitez/opt/anaconda3/lib/python3.7/site-packages (from cycler>=0.10->matplotlib->descartes) (1.12.0)\r\n",
      "Requirement already satisfied: setuptools in /Users/patrickbenitez/opt/anaconda3/lib/python3.7/site-packages (from kiwisolver>=1.0.1->matplotlib->descartes) (41.4.0)\r\n"
     ]
    }
   ],
   "source": [
    "!pip install descartes"
   ]
  },
  {
   "cell_type": "code",
   "execution_count": 42,
   "metadata": {},
   "outputs": [
    {
     "name": "stdout",
     "output_type": "stream",
     "text": [
      "Requirement already satisfied: geopandas in /Users/patrickbenitez/opt/anaconda3/lib/python3.7/site-packages (0.7.0)\n",
      "Requirement already satisfied: pandas>=0.23.0 in /Users/patrickbenitez/opt/anaconda3/lib/python3.7/site-packages (from geopandas) (0.25.1)\n",
      "Requirement already satisfied: shapely in /Users/patrickbenitez/opt/anaconda3/lib/python3.7/site-packages (from geopandas) (1.7.0)\n",
      "Requirement already satisfied: pyproj>=2.2.0 in /Users/patrickbenitez/opt/anaconda3/lib/python3.7/site-packages (from geopandas) (2.5.0)\n",
      "Requirement already satisfied: fiona in /Users/patrickbenitez/opt/anaconda3/lib/python3.7/site-packages (from geopandas) (1.8.13.post1)\n",
      "Requirement already satisfied: python-dateutil>=2.6.1 in /Users/patrickbenitez/opt/anaconda3/lib/python3.7/site-packages (from pandas>=0.23.0->geopandas) (2.8.0)\n",
      "Requirement already satisfied: pytz>=2017.2 in /Users/patrickbenitez/opt/anaconda3/lib/python3.7/site-packages (from pandas>=0.23.0->geopandas) (2019.3)\n",
      "Requirement already satisfied: numpy>=1.13.3 in /Users/patrickbenitez/opt/anaconda3/lib/python3.7/site-packages (from pandas>=0.23.0->geopandas) (1.17.2)\n",
      "Requirement already satisfied: click-plugins>=1.0 in /Users/patrickbenitez/opt/anaconda3/lib/python3.7/site-packages (from fiona->geopandas) (1.1.1)\n",
      "Requirement already satisfied: click<8,>=4.0 in /Users/patrickbenitez/opt/anaconda3/lib/python3.7/site-packages (from fiona->geopandas) (7.0)\n",
      "Requirement already satisfied: six>=1.7 in /Users/patrickbenitez/opt/anaconda3/lib/python3.7/site-packages (from fiona->geopandas) (1.12.0)\n",
      "Requirement already satisfied: munch in /Users/patrickbenitez/opt/anaconda3/lib/python3.7/site-packages (from fiona->geopandas) (2.5.0)\n",
      "Requirement already satisfied: attrs>=17 in /Users/patrickbenitez/opt/anaconda3/lib/python3.7/site-packages (from fiona->geopandas) (19.2.0)\n",
      "Requirement already satisfied: cligj>=0.5 in /Users/patrickbenitez/opt/anaconda3/lib/python3.7/site-packages (from fiona->geopandas) (0.5.0)\n"
     ]
    }
   ],
   "source": [
    "!pip install geopandas"
   ]
  },
  {
   "cell_type": "code",
   "execution_count": 43,
   "metadata": {},
   "outputs": [
    {
     "name": "stdout",
     "output_type": "stream",
     "text": [
      "Requirement already satisfied: shapely in /Users/patrickbenitez/opt/anaconda3/lib/python3.7/site-packages (1.7.0)\r\n"
     ]
    }
   ],
   "source": [
    "!pip install shapely"
   ]
  },
  {
   "cell_type": "markdown",
   "metadata": {},
   "source": [
    "Function declaration"
   ]
  },
  {
   "cell_type": "code",
   "execution_count": 44,
   "metadata": {},
   "outputs": [],
   "source": [
    "def function_1():\n",
    "    '''\n",
    "    DESCRIPTION: Sample description for the function\n",
    "    '''"
   ]
  },
  {
   "cell_type": "code",
   "execution_count": 45,
   "metadata": {},
   "outputs": [],
   "source": [
    "def function_2():\n",
    "    '''\n",
    "    DESCRIPTION: Sample description for the function\n",
    "    '''"
   ]
  },
  {
   "cell_type": "code",
   "execution_count": 46,
   "metadata": {},
   "outputs": [],
   "source": [
    "# set the random seed for the project in order to ensure consistent results\n",
    "random.seed(6)"
   ]
  },
  {
   "cell_type": "markdown",
   "metadata": {},
   "source": [
    "## PHASE 2: DATA ETL"
   ]
  },
  {
   "cell_type": "raw",
   "metadata": {},
   "source": [
    "username = gp.getpass(prompt='Enter your username:') "
   ]
  },
  {
   "cell_type": "raw",
   "metadata": {},
   "source": [
    "password = gp.getpass(prompt='Enter your password:') "
   ]
  },
  {
   "cell_type": "raw",
   "metadata": {},
   "source": [
    "username = \"username\"\n",
    "password = \"password\"\n",
    "url = 'https://sample_aws.html' # AWS instance"
   ]
  },
  {
   "cell_type": "markdown",
   "metadata": {},
   "source": [
    "## listings_2.csv Import"
   ]
  },
  {
   "cell_type": "code",
   "execution_count": 47,
   "metadata": {},
   "outputs": [
    {
     "data": {
      "text/html": [
       "<div>\n",
       "<style scoped>\n",
       "    .dataframe tbody tr th:only-of-type {\n",
       "        vertical-align: middle;\n",
       "    }\n",
       "\n",
       "    .dataframe tbody tr th {\n",
       "        vertical-align: top;\n",
       "    }\n",
       "\n",
       "    .dataframe thead th {\n",
       "        text-align: right;\n",
       "    }\n",
       "</style>\n",
       "<table border=\"1\" class=\"dataframe\">\n",
       "  <thead>\n",
       "    <tr style=\"text-align: right;\">\n",
       "      <th></th>\n",
       "      <th>id</th>\n",
       "      <th>name</th>\n",
       "      <th>host_id</th>\n",
       "      <th>host_name</th>\n",
       "      <th>neighbourhood_group</th>\n",
       "      <th>neighbourhood</th>\n",
       "      <th>latitude</th>\n",
       "      <th>longitude</th>\n",
       "      <th>room_type</th>\n",
       "      <th>price</th>\n",
       "      <th>minimum_nights</th>\n",
       "      <th>number_of_reviews</th>\n",
       "      <th>last_review</th>\n",
       "      <th>reviews_per_month</th>\n",
       "      <th>calculated_host_listings_count</th>\n",
       "      <th>availability_365</th>\n",
       "    </tr>\n",
       "  </thead>\n",
       "  <tbody>\n",
       "    <tr>\n",
       "      <td>0</td>\n",
       "      <td>3362</td>\n",
       "      <td>Convention Center Rowhouse &amp; In Law: 2 Units, 4BR</td>\n",
       "      <td>2798</td>\n",
       "      <td>Ayeh</td>\n",
       "      <td>NaN</td>\n",
       "      <td>Shaw, Logan Circle</td>\n",
       "      <td>38.90982</td>\n",
       "      <td>-77.02016</td>\n",
       "      <td>Entire home/apt</td>\n",
       "      <td>433</td>\n",
       "      <td>2</td>\n",
       "      <td>177</td>\n",
       "      <td>2020-02-02</td>\n",
       "      <td>1.31</td>\n",
       "      <td>5</td>\n",
       "      <td>138</td>\n",
       "    </tr>\n",
       "    <tr>\n",
       "      <td>1</td>\n",
       "      <td>3663</td>\n",
       "      <td>Classic Rowhouse: Porch+ART+Parking</td>\n",
       "      <td>4617</td>\n",
       "      <td>Shawn &amp; Richard</td>\n",
       "      <td>NaN</td>\n",
       "      <td>Brightwood Park, Crestwood, Petworth</td>\n",
       "      <td>38.95888</td>\n",
       "      <td>-77.02554</td>\n",
       "      <td>Entire home/apt</td>\n",
       "      <td>154</td>\n",
       "      <td>3</td>\n",
       "      <td>41</td>\n",
       "      <td>2018-05-21</td>\n",
       "      <td>0.36</td>\n",
       "      <td>1</td>\n",
       "      <td>26</td>\n",
       "    </tr>\n",
       "    <tr>\n",
       "      <td>2</td>\n",
       "      <td>3670</td>\n",
       "      <td>Beautiful Sun-Lit U Street 1BR/1BA</td>\n",
       "      <td>4630</td>\n",
       "      <td>Sheila</td>\n",
       "      <td>NaN</td>\n",
       "      <td>Howard University, Le Droit Park, Cardozo/Shaw</td>\n",
       "      <td>38.91842</td>\n",
       "      <td>-77.02750</td>\n",
       "      <td>Private room</td>\n",
       "      <td>75</td>\n",
       "      <td>2</td>\n",
       "      <td>79</td>\n",
       "      <td>2018-07-25</td>\n",
       "      <td>1.31</td>\n",
       "      <td>1</td>\n",
       "      <td>0</td>\n",
       "    </tr>\n",
       "    <tr>\n",
       "      <td>3</td>\n",
       "      <td>3686</td>\n",
       "      <td>Vita's Hideaway</td>\n",
       "      <td>4645</td>\n",
       "      <td>Vita</td>\n",
       "      <td>NaN</td>\n",
       "      <td>Historic Anacostia</td>\n",
       "      <td>38.86314</td>\n",
       "      <td>-76.98836</td>\n",
       "      <td>Private room</td>\n",
       "      <td>55</td>\n",
       "      <td>2</td>\n",
       "      <td>71</td>\n",
       "      <td>2019-08-05</td>\n",
       "      <td>0.63</td>\n",
       "      <td>2</td>\n",
       "      <td>181</td>\n",
       "    </tr>\n",
       "    <tr>\n",
       "      <td>4</td>\n",
       "      <td>3771</td>\n",
       "      <td>Mt. Pleasant</td>\n",
       "      <td>4795</td>\n",
       "      <td>Charlene</td>\n",
       "      <td>NaN</td>\n",
       "      <td>Columbia Heights, Mt. Pleasant, Pleasant Plain...</td>\n",
       "      <td>38.92760</td>\n",
       "      <td>-77.03926</td>\n",
       "      <td>Private room</td>\n",
       "      <td>88</td>\n",
       "      <td>1</td>\n",
       "      <td>1</td>\n",
       "      <td>2009-01-21</td>\n",
       "      <td>0.01</td>\n",
       "      <td>1</td>\n",
       "      <td>0</td>\n",
       "    </tr>\n",
       "  </tbody>\n",
       "</table>\n",
       "</div>"
      ],
      "text/plain": [
       "     id                                               name  host_id  \\\n",
       "0  3362  Convention Center Rowhouse & In Law: 2 Units, 4BR     2798   \n",
       "1  3663                Classic Rowhouse: Porch+ART+Parking     4617   \n",
       "2  3670                 Beautiful Sun-Lit U Street 1BR/1BA     4630   \n",
       "3  3686                                    Vita's Hideaway     4645   \n",
       "4  3771                                       Mt. Pleasant     4795   \n",
       "\n",
       "         host_name  neighbourhood_group  \\\n",
       "0             Ayeh                  NaN   \n",
       "1  Shawn & Richard                  NaN   \n",
       "2           Sheila                  NaN   \n",
       "3             Vita                  NaN   \n",
       "4         Charlene                  NaN   \n",
       "\n",
       "                                       neighbourhood  latitude  longitude  \\\n",
       "0                                 Shaw, Logan Circle  38.90982  -77.02016   \n",
       "1               Brightwood Park, Crestwood, Petworth  38.95888  -77.02554   \n",
       "2     Howard University, Le Droit Park, Cardozo/Shaw  38.91842  -77.02750   \n",
       "3                                 Historic Anacostia  38.86314  -76.98836   \n",
       "4  Columbia Heights, Mt. Pleasant, Pleasant Plain...  38.92760  -77.03926   \n",
       "\n",
       "         room_type  price  minimum_nights  number_of_reviews last_review  \\\n",
       "0  Entire home/apt    433               2                177  2020-02-02   \n",
       "1  Entire home/apt    154               3                 41  2018-05-21   \n",
       "2     Private room     75               2                 79  2018-07-25   \n",
       "3     Private room     55               2                 71  2019-08-05   \n",
       "4     Private room     88               1                  1  2009-01-21   \n",
       "\n",
       "   reviews_per_month  calculated_host_listings_count  availability_365  \n",
       "0               1.31                               5               138  \n",
       "1               0.36                               1                26  \n",
       "2               1.31                               1                 0  \n",
       "3               0.63                               2               181  \n",
       "4               0.01                               1                 0  "
      ]
     },
     "execution_count": 47,
     "metadata": {},
     "output_type": "execute_result"
    }
   ],
   "source": [
    "# import listings-2.csv into pandas dataframe\n",
    "listings2_raw = pd.read_csv(\"listings-2.csv\") \n",
    "listings2_raw.head(5)"
   ]
  },
  {
   "cell_type": "code",
   "execution_count": 48,
   "metadata": {},
   "outputs": [
    {
     "data": {
      "text/plain": [
       "9329"
      ]
     },
     "execution_count": 48,
     "metadata": {},
     "output_type": "execute_result"
    }
   ],
   "source": [
    "# assign length of dataframe to a variable\n",
    "listings_count = len(listings2_raw)\n",
    "listings_count"
   ]
  },
  {
   "cell_type": "code",
   "execution_count": 49,
   "metadata": {},
   "outputs": [
    {
     "data": {
      "text/plain": [
       "['id',\n",
       " 'name',\n",
       " 'host_id',\n",
       " 'host_name',\n",
       " 'neighbourhood_group',\n",
       " 'neighbourhood',\n",
       " 'latitude',\n",
       " 'longitude',\n",
       " 'room_type',\n",
       " 'price',\n",
       " 'minimum_nights',\n",
       " 'number_of_reviews',\n",
       " 'last_review',\n",
       " 'reviews_per_month',\n",
       " 'calculated_host_listings_count',\n",
       " 'availability_365']"
      ]
     },
     "execution_count": 49,
     "metadata": {},
     "output_type": "execute_result"
    }
   ],
   "source": [
    "# create a list of column names\n",
    "listings_cols = list(listings2_raw.columns)\n",
    "listings_cols"
   ]
  },
  {
   "cell_type": "code",
   "execution_count": 50,
   "metadata": {},
   "outputs": [
    {
     "data": {
      "text/html": [
       "<div>\n",
       "<style scoped>\n",
       "    .dataframe tbody tr th:only-of-type {\n",
       "        vertical-align: middle;\n",
       "    }\n",
       "\n",
       "    .dataframe tbody tr th {\n",
       "        vertical-align: top;\n",
       "    }\n",
       "\n",
       "    .dataframe thead th {\n",
       "        text-align: right;\n",
       "    }\n",
       "</style>\n",
       "<table border=\"1\" class=\"dataframe\">\n",
       "  <thead>\n",
       "    <tr style=\"text-align: right;\">\n",
       "      <th></th>\n",
       "      <th>id</th>\n",
       "      <th>host_id</th>\n",
       "      <th>neighbourhood_group</th>\n",
       "      <th>latitude</th>\n",
       "      <th>longitude</th>\n",
       "      <th>price</th>\n",
       "      <th>minimum_nights</th>\n",
       "      <th>number_of_reviews</th>\n",
       "      <th>reviews_per_month</th>\n",
       "      <th>calculated_host_listings_count</th>\n",
       "      <th>availability_365</th>\n",
       "    </tr>\n",
       "  </thead>\n",
       "  <tbody>\n",
       "    <tr>\n",
       "      <td>count</td>\n",
       "      <td>9.329000e+03</td>\n",
       "      <td>9.329000e+03</td>\n",
       "      <td>0.0</td>\n",
       "      <td>9329.000000</td>\n",
       "      <td>9329.000000</td>\n",
       "      <td>9329.000000</td>\n",
       "      <td>9329.000000</td>\n",
       "      <td>9329.000000</td>\n",
       "      <td>7374.000000</td>\n",
       "      <td>9329.000000</td>\n",
       "      <td>9329.000000</td>\n",
       "    </tr>\n",
       "    <tr>\n",
       "      <td>mean</td>\n",
       "      <td>2.198952e+07</td>\n",
       "      <td>6.751530e+07</td>\n",
       "      <td>NaN</td>\n",
       "      <td>38.912086</td>\n",
       "      <td>-77.017725</td>\n",
       "      <td>209.214707</td>\n",
       "      <td>6.282131</td>\n",
       "      <td>40.574445</td>\n",
       "      <td>1.895331</td>\n",
       "      <td>11.498874</td>\n",
       "      <td>122.146640</td>\n",
       "    </tr>\n",
       "    <tr>\n",
       "      <td>std</td>\n",
       "      <td>1.189175e+07</td>\n",
       "      <td>7.735995e+07</td>\n",
       "      <td>NaN</td>\n",
       "      <td>0.023750</td>\n",
       "      <td>0.029237</td>\n",
       "      <td>471.444580</td>\n",
       "      <td>23.149357</td>\n",
       "      <td>68.205192</td>\n",
       "      <td>2.016273</td>\n",
       "      <td>34.256696</td>\n",
       "      <td>127.853462</td>\n",
       "    </tr>\n",
       "    <tr>\n",
       "      <td>min</td>\n",
       "      <td>3.362000e+03</td>\n",
       "      <td>1.585000e+03</td>\n",
       "      <td>NaN</td>\n",
       "      <td>38.819540</td>\n",
       "      <td>-77.112090</td>\n",
       "      <td>0.000000</td>\n",
       "      <td>1.000000</td>\n",
       "      <td>0.000000</td>\n",
       "      <td>0.010000</td>\n",
       "      <td>1.000000</td>\n",
       "      <td>0.000000</td>\n",
       "    </tr>\n",
       "    <tr>\n",
       "      <td>25%</td>\n",
       "      <td>1.357499e+07</td>\n",
       "      <td>1.045208e+07</td>\n",
       "      <td>NaN</td>\n",
       "      <td>38.899290</td>\n",
       "      <td>-77.036890</td>\n",
       "      <td>79.000000</td>\n",
       "      <td>1.000000</td>\n",
       "      <td>1.000000</td>\n",
       "      <td>0.310000</td>\n",
       "      <td>1.000000</td>\n",
       "      <td>0.000000</td>\n",
       "    </tr>\n",
       "    <tr>\n",
       "      <td>50%</td>\n",
       "      <td>2.060259e+07</td>\n",
       "      <td>3.797307e+07</td>\n",
       "      <td>NaN</td>\n",
       "      <td>38.911370</td>\n",
       "      <td>-77.020160</td>\n",
       "      <td>115.000000</td>\n",
       "      <td>2.000000</td>\n",
       "      <td>10.000000</td>\n",
       "      <td>1.130000</td>\n",
       "      <td>1.000000</td>\n",
       "      <td>82.000000</td>\n",
       "    </tr>\n",
       "    <tr>\n",
       "      <td>75%</td>\n",
       "      <td>3.269423e+07</td>\n",
       "      <td>1.034932e+08</td>\n",
       "      <td>NaN</td>\n",
       "      <td>38.925240</td>\n",
       "      <td>-76.997480</td>\n",
       "      <td>189.000000</td>\n",
       "      <td>3.000000</td>\n",
       "      <td>51.000000</td>\n",
       "      <td>2.950000</td>\n",
       "      <td>4.000000</td>\n",
       "      <td>227.000000</td>\n",
       "    </tr>\n",
       "    <tr>\n",
       "      <td>max</td>\n",
       "      <td>4.246744e+07</td>\n",
       "      <td>3.378089e+08</td>\n",
       "      <td>NaN</td>\n",
       "      <td>38.995490</td>\n",
       "      <td>-76.910110</td>\n",
       "      <td>10000.000000</td>\n",
       "      <td>1000.000000</td>\n",
       "      <td>817.000000</td>\n",
       "      <td>13.730000</td>\n",
       "      <td>186.000000</td>\n",
       "      <td>365.000000</td>\n",
       "    </tr>\n",
       "  </tbody>\n",
       "</table>\n",
       "</div>"
      ],
      "text/plain": [
       "                 id       host_id  neighbourhood_group     latitude  \\\n",
       "count  9.329000e+03  9.329000e+03                  0.0  9329.000000   \n",
       "mean   2.198952e+07  6.751530e+07                  NaN    38.912086   \n",
       "std    1.189175e+07  7.735995e+07                  NaN     0.023750   \n",
       "min    3.362000e+03  1.585000e+03                  NaN    38.819540   \n",
       "25%    1.357499e+07  1.045208e+07                  NaN    38.899290   \n",
       "50%    2.060259e+07  3.797307e+07                  NaN    38.911370   \n",
       "75%    3.269423e+07  1.034932e+08                  NaN    38.925240   \n",
       "max    4.246744e+07  3.378089e+08                  NaN    38.995490   \n",
       "\n",
       "         longitude         price  minimum_nights  number_of_reviews  \\\n",
       "count  9329.000000   9329.000000     9329.000000        9329.000000   \n",
       "mean    -77.017725    209.214707        6.282131          40.574445   \n",
       "std       0.029237    471.444580       23.149357          68.205192   \n",
       "min     -77.112090      0.000000        1.000000           0.000000   \n",
       "25%     -77.036890     79.000000        1.000000           1.000000   \n",
       "50%     -77.020160    115.000000        2.000000          10.000000   \n",
       "75%     -76.997480    189.000000        3.000000          51.000000   \n",
       "max     -76.910110  10000.000000     1000.000000         817.000000   \n",
       "\n",
       "       reviews_per_month  calculated_host_listings_count  availability_365  \n",
       "count        7374.000000                     9329.000000       9329.000000  \n",
       "mean            1.895331                       11.498874        122.146640  \n",
       "std             2.016273                       34.256696        127.853462  \n",
       "min             0.010000                        1.000000          0.000000  \n",
       "25%             0.310000                        1.000000          0.000000  \n",
       "50%             1.130000                        1.000000         82.000000  \n",
       "75%             2.950000                        4.000000        227.000000  \n",
       "max            13.730000                      186.000000        365.000000  "
      ]
     },
     "execution_count": 50,
     "metadata": {},
     "output_type": "execute_result"
    }
   ],
   "source": [
    "listings2_raw.describe()"
   ]
  },
  {
   "cell_type": "markdown",
   "metadata": {},
   "source": [
    "## neighbourhoods.csv Import"
   ]
  },
  {
   "cell_type": "code",
   "execution_count": 51,
   "metadata": {},
   "outputs": [
    {
     "data": {
      "text/html": [
       "<div>\n",
       "<style scoped>\n",
       "    .dataframe tbody tr th:only-of-type {\n",
       "        vertical-align: middle;\n",
       "    }\n",
       "\n",
       "    .dataframe tbody tr th {\n",
       "        vertical-align: top;\n",
       "    }\n",
       "\n",
       "    .dataframe thead th {\n",
       "        text-align: right;\n",
       "    }\n",
       "</style>\n",
       "<table border=\"1\" class=\"dataframe\">\n",
       "  <thead>\n",
       "    <tr style=\"text-align: right;\">\n",
       "      <th></th>\n",
       "      <th>neighbourhood_group</th>\n",
       "      <th>neighbourhood</th>\n",
       "    </tr>\n",
       "  </thead>\n",
       "  <tbody>\n",
       "    <tr>\n",
       "      <td>0</td>\n",
       "      <td>NaN</td>\n",
       "      <td>Brightwood Park, Crestwood, Petworth</td>\n",
       "    </tr>\n",
       "    <tr>\n",
       "      <td>1</td>\n",
       "      <td>NaN</td>\n",
       "      <td>Brookland, Brentwood, Langdon</td>\n",
       "    </tr>\n",
       "    <tr>\n",
       "      <td>2</td>\n",
       "      <td>NaN</td>\n",
       "      <td>Capitol Hill, Lincoln Park</td>\n",
       "    </tr>\n",
       "    <tr>\n",
       "      <td>3</td>\n",
       "      <td>NaN</td>\n",
       "      <td>Capitol View, Marshall Heights, Benning Heights</td>\n",
       "    </tr>\n",
       "    <tr>\n",
       "      <td>4</td>\n",
       "      <td>NaN</td>\n",
       "      <td>Cathedral Heights, McLean Gardens, Glover Park</td>\n",
       "    </tr>\n",
       "  </tbody>\n",
       "</table>\n",
       "</div>"
      ],
      "text/plain": [
       "   neighbourhood_group                                    neighbourhood\n",
       "0                  NaN             Brightwood Park, Crestwood, Petworth\n",
       "1                  NaN                    Brookland, Brentwood, Langdon\n",
       "2                  NaN                       Capitol Hill, Lincoln Park\n",
       "3                  NaN  Capitol View, Marshall Heights, Benning Heights\n",
       "4                  NaN   Cathedral Heights, McLean Gardens, Glover Park"
      ]
     },
     "execution_count": 51,
     "metadata": {},
     "output_type": "execute_result"
    }
   ],
   "source": [
    "# import listings-2.csv into pandas dataframe\n",
    "neighbor_raw = pd.read_csv(\"neighbourhoods.csv\") \n",
    "neighbor_raw.head(5)"
   ]
  },
  {
   "cell_type": "code",
   "execution_count": 52,
   "metadata": {},
   "outputs": [
    {
     "data": {
      "text/plain": [
       "array([nan])"
      ]
     },
     "execution_count": 52,
     "metadata": {},
     "output_type": "execute_result"
    }
   ],
   "source": [
    "neighbor_raw['neighbourhood_group'].unique()"
   ]
  },
  {
   "cell_type": "code",
   "execution_count": 53,
   "metadata": {},
   "outputs": [
    {
     "data": {
      "text/html": [
       "<div>\n",
       "<style scoped>\n",
       "    .dataframe tbody tr th:only-of-type {\n",
       "        vertical-align: middle;\n",
       "    }\n",
       "\n",
       "    .dataframe tbody tr th {\n",
       "        vertical-align: top;\n",
       "    }\n",
       "\n",
       "    .dataframe thead th {\n",
       "        text-align: right;\n",
       "    }\n",
       "</style>\n",
       "<table border=\"1\" class=\"dataframe\">\n",
       "  <thead>\n",
       "    <tr style=\"text-align: right;\">\n",
       "      <th></th>\n",
       "      <th>neighbourhood_group</th>\n",
       "    </tr>\n",
       "  </thead>\n",
       "  <tbody>\n",
       "    <tr>\n",
       "      <td>count</td>\n",
       "      <td>0.0</td>\n",
       "    </tr>\n",
       "    <tr>\n",
       "      <td>mean</td>\n",
       "      <td>NaN</td>\n",
       "    </tr>\n",
       "    <tr>\n",
       "      <td>std</td>\n",
       "      <td>NaN</td>\n",
       "    </tr>\n",
       "    <tr>\n",
       "      <td>min</td>\n",
       "      <td>NaN</td>\n",
       "    </tr>\n",
       "    <tr>\n",
       "      <td>25%</td>\n",
       "      <td>NaN</td>\n",
       "    </tr>\n",
       "    <tr>\n",
       "      <td>50%</td>\n",
       "      <td>NaN</td>\n",
       "    </tr>\n",
       "    <tr>\n",
       "      <td>75%</td>\n",
       "      <td>NaN</td>\n",
       "    </tr>\n",
       "    <tr>\n",
       "      <td>max</td>\n",
       "      <td>NaN</td>\n",
       "    </tr>\n",
       "  </tbody>\n",
       "</table>\n",
       "</div>"
      ],
      "text/plain": [
       "       neighbourhood_group\n",
       "count                  0.0\n",
       "mean                   NaN\n",
       "std                    NaN\n",
       "min                    NaN\n",
       "25%                    NaN\n",
       "50%                    NaN\n",
       "75%                    NaN\n",
       "max                    NaN"
      ]
     },
     "execution_count": 53,
     "metadata": {},
     "output_type": "execute_result"
    }
   ],
   "source": [
    "neighbor_raw.describe()"
   ]
  },
  {
   "cell_type": "code",
   "execution_count": 54,
   "metadata": {},
   "outputs": [
    {
     "data": {
      "text/html": [
       "<div>\n",
       "<style scoped>\n",
       "    .dataframe tbody tr th:only-of-type {\n",
       "        vertical-align: middle;\n",
       "    }\n",
       "\n",
       "    .dataframe tbody tr th {\n",
       "        vertical-align: top;\n",
       "    }\n",
       "\n",
       "    .dataframe thead th {\n",
       "        text-align: right;\n",
       "    }\n",
       "</style>\n",
       "<table border=\"1\" class=\"dataframe\">\n",
       "  <thead>\n",
       "    <tr style=\"text-align: right;\">\n",
       "      <th></th>\n",
       "      <th>listing_id</th>\n",
       "      <th>date</th>\n",
       "    </tr>\n",
       "  </thead>\n",
       "  <tbody>\n",
       "    <tr>\n",
       "      <td>0</td>\n",
       "      <td>3362</td>\n",
       "      <td>2009-01-21</td>\n",
       "    </tr>\n",
       "    <tr>\n",
       "      <td>1</td>\n",
       "      <td>3362</td>\n",
       "      <td>2009-03-26</td>\n",
       "    </tr>\n",
       "    <tr>\n",
       "      <td>2</td>\n",
       "      <td>3362</td>\n",
       "      <td>2009-07-28</td>\n",
       "    </tr>\n",
       "    <tr>\n",
       "      <td>3</td>\n",
       "      <td>3362</td>\n",
       "      <td>2009-08-27</td>\n",
       "    </tr>\n",
       "    <tr>\n",
       "      <td>4</td>\n",
       "      <td>3362</td>\n",
       "      <td>2009-08-28</td>\n",
       "    </tr>\n",
       "  </tbody>\n",
       "</table>\n",
       "</div>"
      ],
      "text/plain": [
       "   listing_id        date\n",
       "0        3362  2009-01-21\n",
       "1        3362  2009-03-26\n",
       "2        3362  2009-07-28\n",
       "3        3362  2009-08-27\n",
       "4        3362  2009-08-28"
      ]
     },
     "execution_count": 54,
     "metadata": {},
     "output_type": "execute_result"
    }
   ],
   "source": [
    "# import listings-2.csv into pandas dataframe\n",
    "reviews_raw = pd.read_csv(\"reviews.csv\") \n",
    "reviews_raw.head(5)"
   ]
  },
  {
   "cell_type": "markdown",
   "metadata": {},
   "source": [
    "# Plot Geographic Points"
   ]
  },
  {
   "cell_type": "code",
   "execution_count": 57,
   "metadata": {},
   "outputs": [],
   "source": [
    "dc_map = gpd.read_file('Washington_DC_Boundary/Washington_DC_Boundary.shp')"
   ]
  },
  {
   "cell_type": "code",
   "execution_count": 58,
   "metadata": {},
   "outputs": [
    {
     "data": {
      "text/plain": [
       "<matplotlib.axes._subplots.AxesSubplot at 0x126726150>"
      ]
     },
     "execution_count": 58,
     "metadata": {},
     "output_type": "execute_result"
    },
    {
     "data": {
      "image/png": "[encoded data removed]",
      "text/plain": [
       "<Figure size 864x864 with 1 Axes>"
      ]
     },
     "metadata": {
      "needs_background": "light"
     },
     "output_type": "display_data"
    }
   ],
   "source": [
    "fig, ax = plt.subplots(figsize = (12,12))\n",
    "dc_map.plot(ax = ax)"
   ]
  },
  {
   "cell_type": "code",
   "execution_count": null,
   "metadata": {},
   "outputs": [],
   "source": []
  }
 ],
 "metadata": {
  "kernelspec": {
   "display_name": "Python 3",
   "language": "python",
   "name": "python3"
  },
  "language_info": {
   "codemirror_mode": {
    "name": "ipython",
    "version": 3
   },
   "file_extension": ".py",
   "mimetype": "text/x-python",
   "name": "python",
   "nbconvert_exporter": "python",
   "pygments_lexer": "ipython3",
   "version": "3.7.4"
  }
 },
 "nbformat": 4,
 "nbformat_minor": 2
}
