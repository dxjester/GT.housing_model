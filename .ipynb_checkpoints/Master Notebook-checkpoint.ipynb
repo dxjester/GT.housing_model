{
 "cells": [
  {
   "cell_type": "markdown",
   "metadata": {},
   "source": [
    "# 6242 PROJECT"
   ]
  },
  {
   "cell_type": "markdown",
   "metadata": {},
   "source": [
    "Comment: Pat push, 3-FEB-20"
   ]
  },
  {
   "cell_type": "markdown",
   "metadata": {},
   "source": [
    "## PHASE 1: PROJECT SETUP"
   ]
  },
  {
   "cell_type": "markdown",
   "metadata": {},
   "source": [
    "Import the necessary libraries needed for ETL, engineering, and export efforts"
   ]
  },
  {
   "cell_type": "code",
   "execution_count": 2,
   "metadata": {},
   "outputs": [],
   "source": [
    "import pandas as pd\n",
    "import csv\n",
    "import random\n",
    "import sqlite3\n",
    "import numpy as np\n",
    "import datetime\n",
    "import matplotlib.pyplot as plt\n",
    "import seaborn as sns\n",
    "import getpass as gp"
   ]
  },
  {
   "cell_type": "markdown",
   "metadata": {},
   "source": [
    "Function declaration"
   ]
  },
  {
   "cell_type": "code",
   "execution_count": 3,
   "metadata": {},
   "outputs": [],
   "source": [
    "def function_1():\n",
    "    '''\n",
    "    DESCRIPTION: Sample description for the function\n",
    "    '''"
   ]
  },
  {
   "cell_type": "code",
   "execution_count": 4,
   "metadata": {},
   "outputs": [],
   "source": [
    "def function_2():\n",
    "    '''\n",
    "    DESCRIPTION: Sample description for the function\n",
    "    '''"
   ]
  },
  {
   "cell_type": "markdown",
   "metadata": {},
   "source": [
    "## PHASE 2: DATA ETL"
   ]
  },
  {
   "cell_type": "code",
   "execution_count": 5,
   "metadata": {},
   "outputs": [],
   "source": [
    "# set the random seed for the project in order to ensure consistent results\n",
    "random.seed(6)"
   ]
  },
  {
   "cell_type": "code",
   "execution_count": 6,
   "metadata": {},
   "outputs": [
    {
     "data": {
      "text/html": [
       "<div>\n",
       "<style scoped>\n",
       "    .dataframe tbody tr th:only-of-type {\n",
       "        vertical-align: middle;\n",
       "    }\n",
       "\n",
       "    .dataframe tbody tr th {\n",
       "        vertical-align: top;\n",
       "    }\n",
       "\n",
       "    .dataframe thead th {\n",
       "        text-align: right;\n",
       "    }\n",
       "</style>\n",
       "<table border=\"1\" class=\"dataframe\">\n",
       "  <thead>\n",
       "    <tr style=\"text-align: right;\">\n",
       "      <th></th>\n",
       "      <th>id</th>\n",
       "      <th>name</th>\n",
       "      <th>host_id</th>\n",
       "      <th>host_name</th>\n",
       "      <th>neighbourhood_group</th>\n",
       "      <th>neighbourhood</th>\n",
       "      <th>latitude</th>\n",
       "      <th>longitude</th>\n",
       "      <th>room_type</th>\n",
       "      <th>price</th>\n",
       "      <th>minimum_nights</th>\n",
       "      <th>number_of_reviews</th>\n",
       "      <th>last_review</th>\n",
       "      <th>reviews_per_month</th>\n",
       "      <th>calculated_host_listings_count</th>\n",
       "      <th>availability_365</th>\n",
       "    </tr>\n",
       "  </thead>\n",
       "  <tbody>\n",
       "    <tr>\n",
       "      <td>0</td>\n",
       "      <td>3362</td>\n",
       "      <td>Convention Center Rowhouse &amp; In Law: 2 Units, 4BR</td>\n",
       "      <td>2798</td>\n",
       "      <td>Ayeh</td>\n",
       "      <td>NaN</td>\n",
       "      <td>Shaw, Logan Circle</td>\n",
       "      <td>38.90982</td>\n",
       "      <td>-77.02016</td>\n",
       "      <td>Entire home/apt</td>\n",
       "      <td>433</td>\n",
       "      <td>2</td>\n",
       "      <td>177</td>\n",
       "      <td>2020-02-02</td>\n",
       "      <td>1.31</td>\n",
       "      <td>5</td>\n",
       "      <td>138</td>\n",
       "    </tr>\n",
       "    <tr>\n",
       "      <td>1</td>\n",
       "      <td>3663</td>\n",
       "      <td>Classic Rowhouse: Porch+ART+Parking</td>\n",
       "      <td>4617</td>\n",
       "      <td>Shawn &amp; Richard</td>\n",
       "      <td>NaN</td>\n",
       "      <td>Brightwood Park, Crestwood, Petworth</td>\n",
       "      <td>38.95888</td>\n",
       "      <td>-77.02554</td>\n",
       "      <td>Entire home/apt</td>\n",
       "      <td>154</td>\n",
       "      <td>3</td>\n",
       "      <td>41</td>\n",
       "      <td>2018-05-21</td>\n",
       "      <td>0.36</td>\n",
       "      <td>1</td>\n",
       "      <td>26</td>\n",
       "    </tr>\n",
       "    <tr>\n",
       "      <td>2</td>\n",
       "      <td>3670</td>\n",
       "      <td>Beautiful Sun-Lit U Street 1BR/1BA</td>\n",
       "      <td>4630</td>\n",
       "      <td>Sheila</td>\n",
       "      <td>NaN</td>\n",
       "      <td>Howard University, Le Droit Park, Cardozo/Shaw</td>\n",
       "      <td>38.91842</td>\n",
       "      <td>-77.02750</td>\n",
       "      <td>Private room</td>\n",
       "      <td>75</td>\n",
       "      <td>2</td>\n",
       "      <td>79</td>\n",
       "      <td>2018-07-25</td>\n",
       "      <td>1.31</td>\n",
       "      <td>1</td>\n",
       "      <td>0</td>\n",
       "    </tr>\n",
       "    <tr>\n",
       "      <td>3</td>\n",
       "      <td>3686</td>\n",
       "      <td>Vita's Hideaway</td>\n",
       "      <td>4645</td>\n",
       "      <td>Vita</td>\n",
       "      <td>NaN</td>\n",
       "      <td>Historic Anacostia</td>\n",
       "      <td>38.86314</td>\n",
       "      <td>-76.98836</td>\n",
       "      <td>Private room</td>\n",
       "      <td>55</td>\n",
       "      <td>2</td>\n",
       "      <td>71</td>\n",
       "      <td>2019-08-05</td>\n",
       "      <td>0.63</td>\n",
       "      <td>2</td>\n",
       "      <td>181</td>\n",
       "    </tr>\n",
       "    <tr>\n",
       "      <td>4</td>\n",
       "      <td>3771</td>\n",
       "      <td>Mt. Pleasant</td>\n",
       "      <td>4795</td>\n",
       "      <td>Charlene</td>\n",
       "      <td>NaN</td>\n",
       "      <td>Columbia Heights, Mt. Pleasant, Pleasant Plain...</td>\n",
       "      <td>38.92760</td>\n",
       "      <td>-77.03926</td>\n",
       "      <td>Private room</td>\n",
       "      <td>88</td>\n",
       "      <td>1</td>\n",
       "      <td>1</td>\n",
       "      <td>2009-01-21</td>\n",
       "      <td>0.01</td>\n",
       "      <td>1</td>\n",
       "      <td>0</td>\n",
       "    </tr>\n",
       "    <tr>\n",
       "      <td>5</td>\n",
       "      <td>4002</td>\n",
       "      <td>2 Bedroom Private Condo Suite (Basement Apt)</td>\n",
       "      <td>5143</td>\n",
       "      <td>Anthony</td>\n",
       "      <td>NaN</td>\n",
       "      <td>North Michigan Park, Michigan Park, University...</td>\n",
       "      <td>38.94008</td>\n",
       "      <td>-76.98936</td>\n",
       "      <td>Entire home/apt</td>\n",
       "      <td>120</td>\n",
       "      <td>2</td>\n",
       "      <td>149</td>\n",
       "      <td>2018-11-13</td>\n",
       "      <td>1.10</td>\n",
       "      <td>1</td>\n",
       "      <td>156</td>\n",
       "    </tr>\n",
       "    <tr>\n",
       "      <td>6</td>\n",
       "      <td>4197</td>\n",
       "      <td>Bedroom in DC 2 blocks to Metro</td>\n",
       "      <td>5061</td>\n",
       "      <td>Sandra</td>\n",
       "      <td>NaN</td>\n",
       "      <td>Capitol Hill, Lincoln Park</td>\n",
       "      <td>38.88791</td>\n",
       "      <td>-76.99668</td>\n",
       "      <td>Private room</td>\n",
       "      <td>83</td>\n",
       "      <td>7</td>\n",
       "      <td>44</td>\n",
       "      <td>2020-01-25</td>\n",
       "      <td>0.34</td>\n",
       "      <td>2</td>\n",
       "      <td>225</td>\n",
       "    </tr>\n",
       "    <tr>\n",
       "      <td>7</td>\n",
       "      <td>4501</td>\n",
       "      <td>DC Rowhouse</td>\n",
       "      <td>1585</td>\n",
       "      <td>Kip</td>\n",
       "      <td>NaN</td>\n",
       "      <td>Shaw, Logan Circle</td>\n",
       "      <td>38.91331</td>\n",
       "      <td>-77.02436</td>\n",
       "      <td>Private room</td>\n",
       "      <td>475</td>\n",
       "      <td>2</td>\n",
       "      <td>120</td>\n",
       "      <td>2015-07-16</td>\n",
       "      <td>0.89</td>\n",
       "      <td>1</td>\n",
       "      <td>0</td>\n",
       "    </tr>\n",
       "    <tr>\n",
       "      <td>8</td>\n",
       "      <td>4529</td>\n",
       "      <td>Bertina's  House Part One</td>\n",
       "      <td>5803</td>\n",
       "      <td>Bertina'S House</td>\n",
       "      <td>NaN</td>\n",
       "      <td>Eastland Gardens, Kenilworth</td>\n",
       "      <td>38.90645</td>\n",
       "      <td>-76.94305</td>\n",
       "      <td>Private room</td>\n",
       "      <td>52</td>\n",
       "      <td>30</td>\n",
       "      <td>102</td>\n",
       "      <td>2019-07-05</td>\n",
       "      <td>0.79</td>\n",
       "      <td>2</td>\n",
       "      <td>179</td>\n",
       "    </tr>\n",
       "    <tr>\n",
       "      <td>9</td>\n",
       "      <td>4967</td>\n",
       "      <td>DC, Near Metro</td>\n",
       "      <td>7086</td>\n",
       "      <td>Seveer</td>\n",
       "      <td>NaN</td>\n",
       "      <td>Ivy City, Arboretum, Trinidad, Carver Langston</td>\n",
       "      <td>38.91263</td>\n",
       "      <td>-76.99221</td>\n",
       "      <td>Private room</td>\n",
       "      <td>99</td>\n",
       "      <td>2</td>\n",
       "      <td>31</td>\n",
       "      <td>2016-09-22</td>\n",
       "      <td>0.27</td>\n",
       "      <td>3</td>\n",
       "      <td>365</td>\n",
       "    </tr>\n",
       "  </tbody>\n",
       "</table>\n",
       "</div>"
      ],
      "text/plain": [
       "     id                                               name  host_id  \\\n",
       "0  3362  Convention Center Rowhouse & In Law: 2 Units, 4BR     2798   \n",
       "1  3663                Classic Rowhouse: Porch+ART+Parking     4617   \n",
       "2  3670                 Beautiful Sun-Lit U Street 1BR/1BA     4630   \n",
       "3  3686                                    Vita's Hideaway     4645   \n",
       "4  3771                                       Mt. Pleasant     4795   \n",
       "5  4002       2 Bedroom Private Condo Suite (Basement Apt)     5143   \n",
       "6  4197                    Bedroom in DC 2 blocks to Metro     5061   \n",
       "7  4501                                        DC Rowhouse     1585   \n",
       "8  4529                          Bertina's  House Part One     5803   \n",
       "9  4967                                     DC, Near Metro     7086   \n",
       "\n",
       "         host_name  neighbourhood_group  \\\n",
       "0             Ayeh                  NaN   \n",
       "1  Shawn & Richard                  NaN   \n",
       "2           Sheila                  NaN   \n",
       "3             Vita                  NaN   \n",
       "4         Charlene                  NaN   \n",
       "5          Anthony                  NaN   \n",
       "6           Sandra                  NaN   \n",
       "7              Kip                  NaN   \n",
       "8  Bertina'S House                  NaN   \n",
       "9           Seveer                  NaN   \n",
       "\n",
       "                                       neighbourhood  latitude  longitude  \\\n",
       "0                                 Shaw, Logan Circle  38.90982  -77.02016   \n",
       "1               Brightwood Park, Crestwood, Petworth  38.95888  -77.02554   \n",
       "2     Howard University, Le Droit Park, Cardozo/Shaw  38.91842  -77.02750   \n",
       "3                                 Historic Anacostia  38.86314  -76.98836   \n",
       "4  Columbia Heights, Mt. Pleasant, Pleasant Plain...  38.92760  -77.03926   \n",
       "5  North Michigan Park, Michigan Park, University...  38.94008  -76.98936   \n",
       "6                         Capitol Hill, Lincoln Park  38.88791  -76.99668   \n",
       "7                                 Shaw, Logan Circle  38.91331  -77.02436   \n",
       "8                       Eastland Gardens, Kenilworth  38.90645  -76.94305   \n",
       "9     Ivy City, Arboretum, Trinidad, Carver Langston  38.91263  -76.99221   \n",
       "\n",
       "         room_type  price  minimum_nights  number_of_reviews last_review  \\\n",
       "0  Entire home/apt    433               2                177  2020-02-02   \n",
       "1  Entire home/apt    154               3                 41  2018-05-21   \n",
       "2     Private room     75               2                 79  2018-07-25   \n",
       "3     Private room     55               2                 71  2019-08-05   \n",
       "4     Private room     88               1                  1  2009-01-21   \n",
       "5  Entire home/apt    120               2                149  2018-11-13   \n",
       "6     Private room     83               7                 44  2020-01-25   \n",
       "7     Private room    475               2                120  2015-07-16   \n",
       "8     Private room     52              30                102  2019-07-05   \n",
       "9     Private room     99               2                 31  2016-09-22   \n",
       "\n",
       "   reviews_per_month  calculated_host_listings_count  availability_365  \n",
       "0               1.31                               5               138  \n",
       "1               0.36                               1                26  \n",
       "2               1.31                               1                 0  \n",
       "3               0.63                               2               181  \n",
       "4               0.01                               1                 0  \n",
       "5               1.10                               1               156  \n",
       "6               0.34                               2               225  \n",
       "7               0.89                               1                 0  \n",
       "8               0.79                               2               179  \n",
       "9               0.27                               3               365  "
      ]
     },
     "execution_count": 6,
     "metadata": {},
     "output_type": "execute_result"
    }
   ],
   "source": [
    "# import csv data into pandas dataframe\n",
    "listings2_raw = pd.read_csv(\"listings-2.csv\") \n",
    "listings2_raw.head(5)"
   ]
  },
  {
   "cell_type": "code",
   "execution_count": 12,
   "metadata": {},
   "outputs": [
    {
     "name": "stdout",
     "output_type": "stream",
     "text": [
      "Enter your username:········\n"
     ]
    }
   ],
   "source": [
    "username = gp.getpass(prompt='Enter your username:') "
   ]
  },
  {
   "cell_type": "code",
   "execution_count": 13,
   "metadata": {},
   "outputs": [
    {
     "name": "stdout",
     "output_type": "stream",
     "text": [
      "Enter your password:········\n"
     ]
    }
   ],
   "source": [
    "password = gp.getpass(prompt='Enter your password:') "
   ]
  },
  {
   "cell_type": "code",
   "execution_count": 14,
   "metadata": {},
   "outputs": [
    {
     "data": {
      "text/plain": [
       "'pbenitez'"
      ]
     },
     "execution_count": 14,
     "metadata": {},
     "output_type": "execute_result"
    }
   ],
   "source": [
    "username"
   ]
  },
  {
   "cell_type": "code",
   "execution_count": 15,
   "metadata": {},
   "outputs": [
    {
     "data": {
      "text/plain": [
       "'sdfdsa'"
      ]
     },
     "execution_count": 15,
     "metadata": {},
     "output_type": "execute_result"
    }
   ],
   "source": [
    "password"
   ]
  },
  {
   "cell_type": "code",
   "execution_count": null,
   "metadata": {},
   "outputs": [],
   "source": [
    "username = \"username\"\n",
    "password = \"password\"\n",
    "url = 'https://sample_aws.html' # AWS instance"
   ]
  }
 ],
 "metadata": {
  "kernelspec": {
   "display_name": "Python 3",
   "language": "python",
   "name": "python3"
  },
  "language_info": {
   "codemirror_mode": {
    "name": "ipython",
    "version": 3
   },
   "file_extension": ".py",
   "mimetype": "text/x-python",
   "name": "python",
   "nbconvert_exporter": "python",
   "pygments_lexer": "ipython3",
   "version": "3.7.4"
  }
 },
 "nbformat": 4,
 "nbformat_minor": 2
}
